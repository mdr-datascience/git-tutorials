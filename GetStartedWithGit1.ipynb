{
 "cells": [
  {
   "cell_type": "markdown",
   "metadata": {},
   "source": [
    "# Tutorial 1\n",
    "## Let's start using Git locally.\n"
   ]
  },
  {
   "cell_type": "code",
   "execution_count": 6,
   "metadata": {},
   "outputs": [
    {
     "name": "stdout",
     "output_type": "stream",
     "text": [
      "\u001b[1;31mType:\u001b[0m        module\n",
      "\u001b[1;31mString form:\u001b[0m <module 'matplotlib.pyplot' from 'c:\\\\Users\\\\md82\\\\AppData\\\\Local\\\\anaconda3\\\\lib\\\\site-packages\\\\matplotlib\\\\pyplot.py'>\n",
      "\u001b[1;31mFile:\u001b[0m        c:\\users\\md82\\appdata\\local\\anaconda3\\lib\\site-packages\\matplotlib\\pyplot.py\n",
      "\u001b[1;31mDocstring:\u001b[0m  \n",
      "`matplotlib.pyplot` is a state-based interface to matplotlib. It provides\n",
      "an implicit,  MATLAB-like, way of plotting.  It also opens figures on your\n",
      "screen, and acts as the figure GUI manager.\n",
      "\n",
      "pyplot is mainly intended for interactive plots and simple cases of\n",
      "programmatic plot generation::\n",
      "\n",
      "    import numpy as np\n",
      "    import matplotlib.pyplot as plt\n",
      "\n",
      "    x = np.arange(0, 5, 0.1)\n",
      "    y = np.sin(x)\n",
      "    plt.plot(x, y)\n",
      "\n",
      "The explicit object-oriented API is recommended for complex plots, though\n",
      "pyplot is still usually used to create the figure and often the axes in the\n",
      "figure. See `.pyplot.figure`, `.pyplot.subplots`, and\n",
      "`.pyplot.subplot_mosaic` to create figures, and\n",
      ":doc:`Axes API </api/axes_api>` for the plotting methods on an Axes::\n",
      "\n",
      "    import numpy as np\n",
      "    import matplotlib.pyplot as plt\n",
      "\n",
      "    x = np.arange(0, 5, 0.1)\n",
      "    y = np.sin(x)\n",
      "    fig, ax = plt.subplots()\n",
      "    ax.plot(x, y)\n",
      "\n",
      "\n",
      "See :ref:`api_interfaces` for an explanation of the tradeoffs between the\n",
      "implicit and explicit interfaces."
     ]
    }
   ],
   "source": [
    "# Import modules\n",
    "import pandas as pd\n",
    "import matplotlib as mpl\n",
    "import matplotlib.pyplot as plt \n",
    "# Local data\n",
    "plt?\n",
    "\n",
    "\n"
   ]
  },
  {
   "cell_type": "code",
   "execution_count": null,
   "metadata": {},
   "outputs": [],
   "source": []
  }
 ],
 "metadata": {
  "kernelspec": {
   "display_name": "base",
   "language": "python",
   "name": "python3"
  },
  "language_info": {
   "codemirror_mode": {
    "name": "ipython",
    "version": 3
   },
   "file_extension": ".py",
   "mimetype": "text/x-python",
   "name": "python",
   "nbconvert_exporter": "python",
   "pygments_lexer": "ipython3",
   "version": "3.10.9"
  },
  "orig_nbformat": 4
 },
 "nbformat": 4,
 "nbformat_minor": 2
}
