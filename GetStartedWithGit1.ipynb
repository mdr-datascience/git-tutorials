{
 "cells": [
  {
   "cell_type": "markdown",
   "metadata": {},
   "source": [
    "# Tutorial 1\n",
    "## Let's start using Git locally.\n",
    "This file helps you write Python code that you can use to learn how to use Git and also learn/revise some slightly advanced Python objects from the *collections* module."
   ]
  },
  {
   "cell_type": "markdown",
   "metadata": {},
   "source": [
    "### defaultdict\n",
    "The *defaultdict* object is like a regular Python dictonary but when one tries to add a key that it doesn't yet contain, it adds a value for it using a zero-argument function provided when its created."
   ]
  },
  {
   "cell_type": "code",
   "execution_count": 29,
   "metadata": {},
   "outputs": [
    {
     "data": {
      "text/plain": [
       "defaultdict(dict, {'Jane': {'Country': 'UK'}})"
      ]
     },
     "execution_count": 29,
     "metadata": {},
     "output_type": "execute_result"
    }
   ],
   "source": [
    "from collections import defaultdict\n",
    "\n",
    "# Count words in a document\n",
    "document = [\"apple\", \"sky\", \"food\", \"school\", \"bicycle\", \"apple\", \"apple\", \"house\", \"food\"]\n",
    "\n",
    "# Counting words using a dict\n",
    "word_counts_dict = {}\n",
    "for word in document:\n",
    "    if word in word_counts_dict:\n",
    "        word_counts_dict[word] += 1\n",
    "    else:\n",
    "        word_counts_dict[word] = 1\n",
    "\n",
    "# Counting words using a defaultdict\n",
    "word_counts_defaultdict = defaultdict(int)      # int() produces 0\n",
    "for word in document:\n",
    "    word_counts_defaultdict[word] += 1\n",
    "\n",
    "# Other examples of defaultdicts\n",
    "dd_list = defaultdict(list)                         \n",
    "dd_list[3].append(5)                            # Outputs {3: [5]}\n",
    "\n",
    "dd_dict = defaultdict(dict)\n",
    "dd_dict[\"Jane\"][\"Country\"] = \"UK\"               # Outputs {\"Jane\": {\"Country\": UK}}"
   ]
  },
  {
   "cell_type": "code",
   "execution_count": 27,
   "metadata": {},
   "outputs": [
    {
     "data": {
      "text/plain": [
       "defaultdict(list, {3: [5]})"
      ]
     },
     "execution_count": 27,
     "metadata": {},
     "output_type": "execute_result"
    }
   ],
   "source": [
    "dd_list"
   ]
  },
  {
   "cell_type": "code",
   "execution_count": 14,
   "metadata": {},
   "outputs": [
    {
     "data": {
      "text/plain": [
       "array([0, 1, 2, 3, 4, 5, 6, 7, 8, 9])"
      ]
     },
     "execution_count": 14,
     "metadata": {},
     "output_type": "execute_result"
    }
   ],
   "source": [
    "# Import modules\n",
    "import numpy as np\n",
    "\n",
    "# Play with arrays\n",
    "x = np.arange(10)\n",
    "x[]  \n"
   ]
  },
  {
   "cell_type": "code",
   "execution_count": null,
   "metadata": {},
   "outputs": [],
   "source": []
  }
 ],
 "metadata": {
  "kernelspec": {
   "display_name": "base",
   "language": "python",
   "name": "python3"
  },
  "language_info": {
   "codemirror_mode": {
    "name": "ipython",
    "version": 3
   },
   "file_extension": ".py",
   "mimetype": "text/x-python",
   "name": "python",
   "nbconvert_exporter": "python",
   "pygments_lexer": "ipython3",
   "version": "3.10.9"
  },
  "orig_nbformat": 4
 },
 "nbformat": 4,
 "nbformat_minor": 2
}
