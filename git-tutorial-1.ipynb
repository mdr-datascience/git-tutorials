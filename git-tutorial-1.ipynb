{
 "cells": [
  {
   "cell_type": "markdown",
   "metadata": {},
   "source": [
    "# Tutorial 1\n",
    "## Get started using *git*\n",
    "### How to configure *git*\n",
    "Before we start using git we need to configure some of its global variables.\n",
    "- From the terminal (either VSCode terminal, Anaconda terminal, Windows Powershell or macOS/Linux terminal) you should be able to type the following command to see the global scope configuration variables for *git*:\\\n",
    "`git config --list`\n",
    "\n",
    "- Now add your user name and email (same email as in your remote *git* provider, i.e. GitHub):\\\n",
    "`git config --global user.name YOUR_USER_NAME`\\\n",
    "`git config --global user.email YOUR_EMAIL`\n",
    "\n",
    "### Create local repository\n",
    "Let's start using git locally in your machine. First we need to create a local repository.\n",
    "- Create a new project folder.\n",
    "- From inside this folder, type `git init` (in the terminal, e.g., from VSCode terminal or Anaconda terminal, or macOS/Linux terminal).\n",
    "- Create new code file (e.g., *.py* or *.ipynb*) inside this folder. Add some code to file (e.g, `print(\"Hello git!\")`).\n",
    "- Type `git add .` (again from the terminal/command line) to stage your change.\n",
    "- Type `git commit –m MESSAGE` to commit to local repository.\n",
    "- Yay, you've commited your first change!"
   ]
  },
  {
   "cell_type": "markdown",
   "metadata": {},
   "source": []
  }
 ],
 "metadata": {
  "kernelspec": {
   "display_name": "base",
   "language": "python",
   "name": "python3"
  },
  "language_info": {
   "codemirror_mode": {
    "name": "ipython",
    "version": 3
   },
   "file_extension": ".py",
   "mimetype": "text/x-python",
   "name": "python",
   "nbconvert_exporter": "python",
   "pygments_lexer": "ipython3",
   "version": "3.10.9"
  },
  "orig_nbformat": 4
 },
 "nbformat": 4,
 "nbformat_minor": 2
}
