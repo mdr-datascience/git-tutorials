{
 "cells": [
  {
   "cell_type": "markdown",
   "metadata": {},
   "source": [
    "# Tutorial 2\n",
    "## Continue to use *git* locally\n",
    "### How to check history\n",
    "Now that we know how to make changes and add them to our local repository let's look at the history of these changes using some useful commands.\n",
    "\n",
    "\n",
    "\n",
    "### Check status\n",
    "Let's start using git locally in your machine. First we need to create a local repository.\n"
   ]
  }
 ],
 "metadata": {
  "language_info": {
   "name": "python"
  },
  "orig_nbformat": 4
 },
 "nbformat": 4,
 "nbformat_minor": 2
}
