{
 "cells": [
  {
   "cell_type": "markdown",
   "metadata": {},
   "source": [
    "# Tutorial 2\n",
    "## Continue to use *git* locally\n",
    "### How to check history\n",
    "Now that we know how to make changes and add them to our local repository let's look at the history of these changes using some useful commands.\n",
    "- Make changes to your file and commit them. Repeat this step a few times to build a history of changes. Revision of the commands to stage and commit:\\\n",
    "`git add .`\\\n",
    "`git commit -m MESSAGE`\n",
    "- Now lets check the history of the changes. For this we can use the following commands:\\\n",
    "`git log`\\\n",
    "<img src=\"gitlog.png\" alt=\"Alternative text\" />\n",
    "`git log -p`\\\n",
    "`git log --oneline`\\\n",
    "Do you notice the difference between the different ways of using `git log`?\n",
    "- Now lets check the history of the changes. For this we can use the following commands:\\\n",
    "\n",
    "\n",
    "\n",
    "\n",
    "### Check status\n",
    "Let's start using git locally in your machine. First we need to create a local repository.\n"
   ]
  },
  {
   "cell_type": "markdown",
   "metadata": {},
   "source": []
  }
 ],
 "metadata": {
  "language_info": {
   "name": "python"
  },
  "orig_nbformat": 4
 },
 "nbformat": 4,
 "nbformat_minor": 2
}
