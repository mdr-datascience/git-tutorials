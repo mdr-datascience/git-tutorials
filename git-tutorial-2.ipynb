{
 "cells": [
  {
   "cell_type": "markdown",
   "metadata": {},
   "source": [
    "# Tutorial 2\n",
    "## Continue to use *git* locally\n",
    "### How to check history\n",
    "Now that we know how to make changes and add them to our local repository let's look at the history of these changes using some useful commands.\n",
    "- Make changes to your file and commit them. Repeat this step a few times to build a history of changes. Revision of the commands to stage and commit:\\\n",
    "`git add .`\\\n",
    "`git commit -m MESSAGE`\n",
    "- Now lets check the history of the changes. For this we can use the following commands:\\\n",
    "`git log`\\\n",
    "`git log -p`\\\n",
    "`git log --oneline`\\\n",
    "Do you notice the difference between the different ways of using `git log`?\n",
    "### Status is your best friend\n",
    "One very useful command is `git status`. This command lets you know the status of your repository but it also suggests what is wrong (if anything is wrong) and provides tips for next steps or how to fix issues.\n",
    "Try the following steps to understand how `git status` can be helpful:\n",
    "- Make changes to file and save. \n",
    "- Check status of repository using `git status` (see how git suggests what to do next).\n",
    "- Stage changes.\n",
    "- Check status of repository using `git status` (see how git suggests what to do next).\n",
    "- Commit changes.\n",
    "- Check status of repository using `git status` (see how git suggests what to do next).\n",
    "### Use VSCode Source Control panel\n",
    "So far we've been using git through the command line but everything we've done so far can be done through VSCode interface (in Source Control).\n",
    "- Try repeating some of the things you've done before but using the interface instead of the command line. Which way do you prefer?\n",
    "### Explore *.git* folder\n",
    "Finally explore your *.git* folder inside your project folder. In particular, open the *config* file with a text editor or VSCode. This is your local scope variables. Don't make changes.  \n"
   ]
  }
 ],
 "metadata": {
  "language_info": {
   "name": "python"
  },
  "orig_nbformat": 4
 },
 "nbformat": 4,
 "nbformat_minor": 2
}
