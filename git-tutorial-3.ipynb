{
 "cells": [
  {
   "cell_type": "markdown",
   "metadata": {},
   "source": [
    "# Tutorial 3\n",
    "## Get started using *GitHub*\n",
    "### Create remote repository\n",
    "Let's start by creating a new remote repository and cloning it into our machine.\n",
    "- From your GitHub account create a new repository.\n",
    "- Add README.md (markdown) file so that repository is not empty.\n",
    "- From the repository go to Code -> Clone and copy URL (print screen in slides).\n",
    "\n",
    "### Clone remote repository\n",
    "Let's create a copy of the remote repository in our local machine to work on code.\n",
    "- Once URL is copied go to terminal and type `git clone URL`\n",
    "\n",
    "### Push changes to remote repository\n",
    "Now let's make changes to the cloned repository and push them to the remote repository.\n",
    "- Create new python file inside the cloned repo or change README.md.\n",
    "- Stage change: `git add .`\n",
    "- Commit change locally: `git commit –m MESSAGE`\n",
    "- Push to remote repository using `git push`\n",
    "- Re-fresh GitHub to see changes\n",
    "\n",
    "### Sync local repo with remote repository\n",
    "Now let's do the opposite. Let's syncronise an entire local repository with a new remote repository.\n",
    "- Create empty repository on GitHub.\n",
    "- Create new project folder locally.\n",
    "- Initialize new local repo: `git init`\n",
    "- Create and stage new file: `git add .`\n",
    "- Commit file: `git commit –m MESSAGE`\n",
    "- Before we push remotely. Type: `git remote add origin URL_REMORE_REPO` (e.g., https://github.com/mdr-datascience/git-tutorials.git)\n",
    "- Push and refresh GitHub: `git push`\n",
    "- If you make changes directly in your remote repo, use the following command to sync with local repo: `git pull`\n",
    "\n"
   ]
  },
  {
   "cell_type": "markdown",
   "metadata": {},
   "source": []
  }
 ],
 "metadata": {
  "kernelspec": {
   "display_name": "base",
   "language": "python",
   "name": "python3"
  },
  "language_info": {
   "codemirror_mode": {
    "name": "ipython",
    "version": 3
   },
   "file_extension": ".py",
   "mimetype": "text/x-python",
   "name": "python",
   "nbconvert_exporter": "python",
   "pygments_lexer": "ipython3",
   "version": "3.10.9"
  },
  "orig_nbformat": 4
 },
 "nbformat": 4,
 "nbformat_minor": 2
}
