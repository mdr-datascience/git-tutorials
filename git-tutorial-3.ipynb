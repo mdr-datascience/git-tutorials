{
 "cells": [
  {
   "cell_type": "markdown",
   "metadata": {},
   "source": [
    "# Tutorial 3\n",
    "## Get started using *GitHub*\n",
    "### Create remote repository\n",
    "Let's start by creating a new remote repository and cloning it into our machine.\n",
    "- From your GitHub account create a new repository.\n",
    "- Add README.md (markdown) file so that repository is not empty.\n",
    "- From the repository go to Code -> Clone and copy URL (print screen in slides).\n",
    "\n",
    "### Clone remote repository\n",
    "Let's create a copy of the remote repository in our local machine to work on code.\n",
    "- Once URL is copied go to terminal and type `git clone URL`\n",
    "\n",
    "### Push changes to remote repository\n",
    "Now let's make changes to the cloned repository and push them to the remote repository.\n",
    "- Create new python file inside the cloned repo or change README.md.\n",
    "- Stage change: `git add .`\n",
    "- Commit change locally: `git commit –m MESSAGE`\n",
    "- Push to remote repository using `git push`\n",
    "- Re-fresh GitHub to see changes\n"
   ]
  }
 ],
 "metadata": {
  "kernelspec": {
   "display_name": "base",
   "language": "python",
   "name": "python3"
  },
  "language_info": {
   "codemirror_mode": {
    "name": "ipython",
    "version": 3
   },
   "file_extension": ".py",
   "mimetype": "text/x-python",
   "name": "python",
   "nbconvert_exporter": "python",
   "pygments_lexer": "ipython3",
   "version": "3.10.9"
  },
  "orig_nbformat": 4
 },
 "nbformat": 4,
 "nbformat_minor": 2
}
