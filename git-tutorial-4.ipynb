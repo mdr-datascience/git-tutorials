{
 "cells": [
  {
   "cell_type": "markdown",
   "metadata": {},
   "source": [
    "# Tutorial 4\n",
    "## A few more things about *git*\n",
    "### Undo change\n",
    "If you're not happy with the changes you've made to a file you can revert them.\n",
    "\n",
    "\n",
    "- Make change to file and stage change\n",
    "- Add README.md (markdown) file so that repository is not empty.\n",
    "- From the repository go to Code -> Clone and copy URL (print screen in slides).\n",
    "\n",
    "### Revert to previous version\n",
    "Let's create a copy of the remote repository in our local machine to work on code.\n",
    "- Once URL is copied go to terminal and type `git clone URL`\n",
    "\n",
    "### Ignore files\n",
    "Now let's make changes to the cloned repository and push them to the remote repository.\n",
    "- Create new python file inside the cloned repo or change README.md.\n",
    "- Stage change: `git add .`\n",
    "- Commit change locally: `git commit –m MESSAGE`\n",
    "- Push to remote repository using `git push`\n",
    "- Re-fresh GitHub to see changes\n",
    "\n",
    "### Sync local repo with remote repository\n",
    "Now let's do the opposite. Let's syncronise an entire local repository with a new remote repository.\n",
    "- Create empty repository on GitHub.\n",
    "- Create new project folder locally.\n",
    "- Initialize new local repo: `git init`\n",
    "- Create and stage new file: `git add .`\n",
    "- Commit file: `git commit –m MESSAGE`\n",
    "- Before we push remotely. Type: `git remote add origin URL_REMORE_REPO` (e.g., https://github.com/mdr-datascience/git-tutorials.git)\n",
    "- Push and refresh GitHub: `git push`\n",
    "- If you make changes directly in your remote repo, use the following command to sync with local repo: `git pull`\n",
    "\n"
   ]
  },
  {
   "cell_type": "markdown",
   "metadata": {},
   "source": []
  }
 ],
 "metadata": {
  "kernelspec": {
   "display_name": "base",
   "language": "python",
   "name": "python3"
  },
  "language_info": {
   "codemirror_mode": {
    "name": "ipython",
    "version": 3
   },
   "file_extension": ".py",
   "mimetype": "text/x-python",
   "name": "python",
   "nbconvert_exporter": "python",
   "pygments_lexer": "ipython3",
   "version": "3.10.9"
  },
  "orig_nbformat": 4
 },
 "nbformat": 4,
 "nbformat_minor": 2
}
