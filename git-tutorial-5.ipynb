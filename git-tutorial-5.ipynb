{
 "cells": [
  {
   "cell_type": "markdown",
   "metadata": {},
   "source": [
    "# Tutorial 5\n",
    "## Work with branches\n",
    "### Undo change\n",
    "If you're not happy with the changes you've made to a file you can revert them. For example:\n",
    "- Make change to file and stage change: `git add .`\n",
    "- Check status: `git status`\n",
    "- Unstage change: `git reset HEAD FILE_NAME`\n",
    "- Make change once again and stage change. \n",
    "- Check status again.\n",
    "- Revert change completely (watch out – you may lose code!): `git restore FILE_NAME`\n",
    "\n",
    "### Revert to previous version\n",
    "Now let's explore how we can go back to a previous commited version of our code.\n",
    "- Make change in file, stage change and commit.\n",
    "- Check history of commits (showinw only one-line per change): `git log --oneline`\n",
    "- Point *git* to previous version to see it: `git checkout VERSION_NUMBER`\n",
    "- Come back to more recent version: `git checkout main`\n",
    "- Make another change and commit.\n",
    "- Revert change to previous version (watch out!): `git revert VERSION_NUMBER`\n",
    "- Check history again: `git log --oneline`\n",
    "\n",
    "### Ignore files\n",
    "If you have files/folders in your project folder that you don’t want to track with *git*. You can tell *git* to ignore them. For example:\n",
    "- Create *.gitignore* file or use existing one.\n",
    "- Create files you want to ignore (e.g., .txt files).\n",
    "- Add file names and folders (if they exist) to *.gitignore* file.\n",
    "- Mke new changes to repo, stage, commit and push.\n",
    "- Verify that file to be ignored has not been pushed to remote repository."
   ]
  }
 ],
 "metadata": {
  "kernelspec": {
   "display_name": "base",
   "language": "python",
   "name": "python3"
  },
  "language_info": {
   "codemirror_mode": {
    "name": "ipython",
    "version": 3
   },
   "file_extension": ".py",
   "mimetype": "text/x-python",
   "name": "python",
   "nbconvert_exporter": "python",
   "pygments_lexer": "ipython3",
   "version": "3.10.9"
  },
  "orig_nbformat": 4
 },
 "nbformat": 4,
 "nbformat_minor": 2
}
