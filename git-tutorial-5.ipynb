{
 "cells": [
  {
   "cell_type": "markdown",
   "metadata": {},
   "source": [
    "# Tutorial 5\n",
    "## Work with branches\n",
    "### Create new branch \n",
    "If you need to make major changes or for some reason don't want to touch the main repository, create a branch to work on your code without modifying the existing repository:\n",
    "- Check your branches: `git branch`\n",
    "- Create new branch, for example: `git branch BRANCH_NAME`\n",
    "- Check branches again: `git branch`\n",
    "- Start working on new branch by pointing *git* to it: `git checkout BRANCH_NAME`\n",
    "- Check branches again (notice anything?): `git branch`\n",
    "- Push new branch onto remote repository: `git push --set-upstream origin BRANCH_NAME`\n",
    "- Now merge new branch into main:\\\n",
    "`git checkout main`\\\n",
    "`git merge BRANCH_NAME`\n"
   ]
  },
  {
   "cell_type": "markdown",
   "metadata": {},
   "source": []
  }
 ],
 "metadata": {
  "kernelspec": {
   "display_name": "base",
   "language": "python",
   "name": "python3"
  },
  "language_info": {
   "codemirror_mode": {
    "name": "ipython",
    "version": 3
   },
   "file_extension": ".py",
   "mimetype": "text/x-python",
   "name": "python",
   "nbconvert_exporter": "python",
   "pygments_lexer": "ipython3",
   "version": "3.10.9"
  },
  "orig_nbformat": 4
 },
 "nbformat": 4,
 "nbformat_minor": 2
}
