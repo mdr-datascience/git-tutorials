{
 "cells": [
  {
   "cell_type": "markdown",
   "metadata": {},
   "source": [
    "# Tutorial 1\n",
    "## Get started using *git*\n",
    "### How to configure *git*\n",
    "Before we start using git we need to configure some of its global variables.\n",
    "- From the terminal (either VSCode terminal, Anaconda terminal, Windows Powershell or macOS/Linux terminal) you should be able to type the following command to see the global scope configuration variables for *git*:\n",
    "\n",
    "        `git config --list`\n",
    "\n",
    "- Now add your user name and email (same email as in your remote *git* provider, i.e. GitHub):\n",
    "\n",
    "        `git config --global user.name YOUR_USER_NAME`\n",
    "        `git config --global user.email YOUR_EMAIL`\n",
    "\n",
    "### Create local repository\n",
    "Let's start using git locally in your machine. First we need to create a local repository.\n",
    "- Create a new project folder.\n",
    "- From inside this folder, type `git init` (in the terminal, e.g., from VSCode terminal or Anaconda terminal, or macOS/Linux terminal).\n",
    "- Create new code file (e.g., *.py* or *.ipynb*) inside this folder. Add some code to file (e.g, `print(\"Hello git!\")`).\n",
    "- Type `git add .` (again from the terminal/command line) to stage your change.\n",
    "- Type `git commit –m MESSAGE` to commit to local repository.\n",
    "- Yay, you've commited your first change!\n",
    "\n",
    "\n",
    "\n",
    "\n"
   ]
  },
  {
   "cell_type": "markdown",
   "metadata": {},
   "source": [
    "### TO DO: \n",
    "Play around with the code bellow. Try to make changes and use *git* to track your changes. Things you can try:\n",
    "- Stage changes (`git add .`);\n",
    "- Commit changes (`git commit -m \"MESSAGE\"`);\n",
    "- Look at history of your changes (`git log` or `gig log -p`);\n",
    "- Look at status of your git repository (`git status`) "
   ]
  },
  {
   "cell_type": "markdown",
   "metadata": {},
   "source": [
    "### defaultdict\n",
    "The `defaultdict` object is like a regular Python dictonary but when one tries to add a key that it doesn't yet contain, it adds a value for it using a zero-argument function provided when its created."
   ]
  },
  {
   "cell_type": "code",
   "execution_count": 1,
   "metadata": {},
   "outputs": [],
   "source": [
    "from collections import defaultdict\n",
    "\n",
    "# Count words in a document\n",
    "document = [\"apple\", \"sky\", \"food\", \"school\", \"bicycle\", \"apple\", \"apple\", \"house\", \"food\"]\n",
    "\n",
    "# Counting words using a dict\n",
    "word_counts_dict = {}\n",
    "for word in document:\n",
    "    if word in word_counts_dict:\n",
    "        word_counts_dict[word] += 1\n",
    "    else:\n",
    "        word_counts_dict[word] = 1\n",
    "\n",
    "# Counting words using a defaultdict\n",
    "word_counts_defaultdict = defaultdict(int)      # int() produces 0\n",
    "for word in document:\n",
    "    word_counts_defaultdict[word] += 1\n",
    "\n",
    "# Other examples of defaultdicts\n",
    "dd_list = defaultdict(list)                         \n",
    "dd_list[3].append(5)                            # Outputs {3: [5]}\n",
    "\n",
    "dd_dict = defaultdict(dict)\n",
    "dd_dict[\"Jane\"][\"Country\"] = \"UK\"               # Outputs {\"Jane\": {\"Country\": UK}}"
   ]
  },
  {
   "cell_type": "markdown",
   "metadata": {},
   "source": [
    "### Counters\n",
    "The `Counter` object turns a sequence of values into a `defaultdict(int)` object."
   ]
  },
  {
   "cell_type": "code",
   "execution_count": 2,
   "metadata": {},
   "outputs": [],
   "source": [
    "# Example of word counting using Counter\n",
    "from collections import Counter\n",
    "word_counts_counter = Counter(document)"
   ]
  }
 ],
 "metadata": {
  "kernelspec": {
   "display_name": "base",
   "language": "python",
   "name": "python3"
  },
  "language_info": {
   "codemirror_mode": {
    "name": "ipython",
    "version": 3
   },
   "file_extension": ".py",
   "mimetype": "text/x-python",
   "name": "python",
   "nbconvert_exporter": "python",
   "pygments_lexer": "ipython3",
   "version": "3.10.9"
  },
  "orig_nbformat": 4
 },
 "nbformat": 4,
 "nbformat_minor": 2
}
